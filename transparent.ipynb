{
 "cells": [
  {
   "cell_type": "code",
   "execution_count": 1,
   "metadata": {},
   "outputs": [],
   "source": [
    "import pythreejs as tjs\n",
    "import pyvista as pv\n",
    "pv.set_jupyter_backend(\"pythreejs\")\n",
    "from ipywidgets.embed import embed_minimal_html"
   ]
  },
  {
   "cell_type": "code",
   "execution_count": 2,
   "metadata": {},
   "outputs": [],
   "source": [
    "plotter = pv.Plotter(window_size=[400,400])\n",
    "\n",
    "## Create a mesh with a cube \n",
    "mesh = pv.Cube(center=(0,0,0))\n",
    "mesh2 = pv.Cube(center=(0,0,1.5))\n",
    "\n",
    "## Add some scalar field associated to the mesh\n",
    "mesh['myscalar'] = mesh.points[:, 2]*mesh.points[:, 0]\n",
    "\n",
    "## Add mesh to the plotter\n",
    "plotter.add_mesh(mesh, scalars='myscalar', cmap='bwr', line_width=1)\n",
    "plotter.add_mesh(mesh2, color=\"green\" , line_width=1)\n",
    "\n",
    "## Final touches\n",
    "plotter.view_isometric()\n",
    "#plotter.background_color = 'red'"
   ]
  },
  {
   "cell_type": "code",
   "execution_count": 3,
   "metadata": {},
   "outputs": [],
   "source": [
    "pl_tjs = plotter.to_pythreejs()"
   ]
  },
  {
   "cell_type": "code",
   "execution_count": 4,
   "metadata": {},
   "outputs": [],
   "source": [
    "pl_tjs._trait_values[\"scene\"].background = None\n",
    "pl_tjs._alpha = True\n",
    "pl_tjs.clearOpacity = 0.5\n",
    "pl_tjs.clearColor = plotter.background_color.hex_rgb"
   ]
  },
  {
   "cell_type": "code",
   "execution_count": 5,
   "metadata": {},
   "outputs": [],
   "source": [
    "embed_minimal_html(\"myhtml.html\", pl_tjs)"
   ]
  },
  {
   "cell_type": "code",
   "execution_count": 6,
   "metadata": {},
   "outputs": [
    {
     "data": {
      "application/vnd.jupyter.widget-view+json": {
       "model_id": "7b9928d9e20b40e29c0700b7e8d18fd3",
       "version_major": 2,
       "version_minor": 0
      },
      "text/plain": [
       "Renderer(camera=PerspectiveCamera(children=(DirectionalLight(intensity=0.25, matrixWorldNeedsUpdate=True, posi…"
      ]
     },
     "metadata": {},
     "output_type": "display_data"
    }
   ],
   "source": [
    "pl_tjs"
   ]
  },
  {
   "cell_type": "code",
   "execution_count": 7,
   "metadata": {},
   "outputs": [
    {
     "ename": "NameError",
     "evalue": "name 'animaction' is not defined",
     "output_type": "error",
     "traceback": [
      "\u001b[0;31m---------------------------------------------------------------------------\u001b[0m",
      "\u001b[0;31mNameError\u001b[0m                                 Traceback (most recent call last)",
      "\u001b[1;32m/home/edwin/Repositories/streamlit-PyVista-viewer/transparent.ipynb Cell 7\u001b[0m in \u001b[0;36m<cell line: 1>\u001b[0;34m()\u001b[0m\n\u001b[0;32m----> <a href='vscode-notebook-cell:/home/edwin/Repositories/streamlit-PyVista-viewer/transparent.ipynb#X12sZmlsZQ%3D%3D?line=0'>1</a>\u001b[0m animaction[\u001b[39m0\u001b[39m]\n",
      "\u001b[0;31mNameError\u001b[0m: name 'animaction' is not defined"
     ]
    }
   ],
   "source": [
    "animaction[0]"
   ]
  },
  {
   "cell_type": "code",
   "execution_count": null,
   "metadata": {},
   "outputs": [],
   "source": [
    "animaction[1]"
   ]
  },
  {
   "cell_type": "code",
   "execution_count": null,
   "metadata": {},
   "outputs": [],
   "source": []
  }
 ],
 "metadata": {
  "kernelspec": {
   "display_name": "Python 3.9.5 ('venv')",
   "language": "python",
   "name": "python3"
  },
  "language_info": {
   "codemirror_mode": {
    "name": "ipython",
    "version": 3
   },
   "file_extension": ".py",
   "mimetype": "text/x-python",
   "name": "python",
   "nbconvert_exporter": "python",
   "pygments_lexer": "ipython3",
   "version": "3.9.5"
  },
  "orig_nbformat": 4,
  "vscode": {
   "interpreter": {
    "hash": "89e1cd44f001cee52913e72ef4428da95183f9883d2353723c5f24d4bebbab96"
   }
  }
 },
 "nbformat": 4,
 "nbformat_minor": 2
}
