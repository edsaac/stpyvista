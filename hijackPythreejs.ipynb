{
 "cells": [
  {
   "cell_type": "code",
   "execution_count": null,
   "metadata": {},
   "outputs": [],
   "source": [
    "import pythreejs as tjs\n",
    "import pyvista as pv\n",
    "pv.set_jupyter_backend(\"pythreejs\")\n",
    "from ipywidgets.embed import embed_minimal_html"
   ]
  },
  {
   "cell_type": "code",
   "execution_count": null,
   "metadata": {},
   "outputs": [],
   "source": [
    "plotter = pv.Plotter(window_size=[400,400])\n",
    "\n",
    "## Create a mesh with a cube \n",
    "mesh = pv.Cube(center=(0,0,0))\n",
    "mesh2 = pv.Cube(center=(0,0,1.5))\n",
    "\n",
    "## Add some scalar field associated to the mesh\n",
    "mesh['myscalar'] = mesh.points[:, 2]*mesh.points[:, 0]\n",
    "\n",
    "## Add mesh to the plotter\n",
    "plotter.add_mesh(mesh, scalars='myscalar', cmap='bwr', line_width=1)\n",
    "plotter.add_mesh(mesh2, color=\"green\" , line_width=1)\n",
    "\n",
    "## Final touches\n",
    "plotter.view_isometric()\n",
    "plotter.background_color = 'white'"
   ]
  },
  {
   "cell_type": "code",
   "execution_count": null,
   "metadata": {},
   "outputs": [],
   "source": [
    "pl_tjs = plotter.to_pythreejs()"
   ]
  },
  {
   "cell_type": "code",
   "execution_count": null,
   "metadata": {},
   "outputs": [],
   "source": [
    "pl_tjs._trait_values.keys()"
   ]
  },
  {
   "cell_type": "code",
   "execution_count": null,
   "metadata": {},
   "outputs": [],
   "source": [
    "def get_camera(renderer: tjs.Renderer) -> tjs.Camera:\n",
    "    return renderer._trait_values[\"camera\"]\n",
    "\n",
    "def get_meshes(renderer: tjs.Renderer) -> list[tjs.Mesh]:\n",
    "    return [child for child in renderer._trait_values[\"scene\"].children if isinstance(child, tjs.Mesh)]\n",
    "\n",
    "# def orbit_camera_around(renderer: tjs.Renderer, axis:str = \"x\", freq:float = 8.0):\n",
    "    \n",
    "#     camera = get_camera(renderer)\n",
    "#     x0,y0,z0 = camera.position\n",
    "\n",
    "#     positon_track = tjs.VectorKeyframeTrack(name='.position',\n",
    "#         times=[0, 2],\n",
    "#         values=[x0, y0, z0,\n",
    "#                 2*x0, 2*y0, 2*z0])\n",
    "\n",
    "#     #spin_track = tjs.NumberKeyframeTrack(name=f'.rotation[{axis}]', times=[0, freq], values=[0, 6.28])\n",
    "#     spin_clip = tjs.AnimationClip(tracks=[positon_track])\n",
    "\n",
    "#     ## Animate all meshes in scene\n",
    "#     spin_action = list()\n",
    "#     spin_action.append(tjs.AnimationAction(tjs.AnimationMixer(camera), spin_clip, camera))\n",
    "    \n",
    "#     return spin_action\n",
    "\n",
    "def spin_element_on_axis(renderer: tjs.Renderer, axis:str = \"z\", revolution_time:float = 4.0):\n",
    "    \n",
    "    ## Makes a full spin in a second\n",
    "    spin_track = tjs.NumberKeyframeTrack(name=f'.rotation[{axis}]', times=[0, revolution_time], values=[0, 6.28])\n",
    "    spin_clip = tjs.AnimationClip(tracks=[spin_track])\n",
    "\n",
    "    ## Animate all meshes in scene\n",
    "    spin_action = list()\n",
    "    for mesh in get_meshes(renderer):\n",
    "        spin_action.append(tjs.AnimationAction(tjs.AnimationMixer(mesh), spin_clip, mesh))\n",
    "\n",
    "    return spin_action\n",
    "\n",
    "def spin_all_on_axis(renderer: tjs.Renderer, axis:str = \"z\", revolution_time:float = 4.0):\n",
    "    \n",
    "    ## Makes a full spin in a second\n",
    "    spin_track = tjs.NumberKeyframeTrack(name=f'.rotation[{axis}]', times=[0, revolution_time], values=[0, 6.28])\n",
    "    spin_clip = tjs.AnimationClip(tracks=[spin_track])\n",
    "\n",
    "    ## Animate all meshes in scene\n",
    "    spin_action = list()\n",
    "    meshes = get_meshes(renderer)\n",
    "    group = tjs.AnimationObjectGroup()\n",
    "    group.add(mesh[0])\n",
    "    spin_action.append(\n",
    "        tjs.AnimationAction(\n",
    "            tjs.AnimationMixer(group),\n",
    "            spin_clip, \n",
    "            mesh))\n",
    "\n",
    "    return spin_action"
   ]
  },
  {
   "cell_type": "code",
   "execution_count": null,
   "metadata": {},
   "outputs": [],
   "source": [
    "animaction = spin_element_on_axis(pl_tjs)\n",
    "#control = spin_all_on_axis(pl_tjs)"
   ]
  },
  {
   "cell_type": "code",
   "execution_count": null,
   "metadata": {},
   "outputs": [],
   "source": [
    "type(animaction[0])"
   ]
  },
  {
   "cell_type": "code",
   "execution_count": null,
   "metadata": {},
   "outputs": [],
   "source": [
    "embed_minimal_html(\"myhtml.html\", [pl_tjs, *animaction])"
   ]
  },
  {
   "cell_type": "code",
   "execution_count": null,
   "metadata": {},
   "outputs": [],
   "source": [
    "pl_tjs"
   ]
  },
  {
   "cell_type": "code",
   "execution_count": null,
   "metadata": {},
   "outputs": [],
   "source": [
    "animaction[0]"
   ]
  },
  {
   "cell_type": "code",
   "execution_count": null,
   "metadata": {},
   "outputs": [],
   "source": [
    "animaction[1]"
   ]
  },
  {
   "cell_type": "code",
   "execution_count": null,
   "metadata": {},
   "outputs": [],
   "source": []
  }
 ],
 "metadata": {
  "kernelspec": {
   "display_name": "Python 3.9.5 ('venv')",
   "language": "python",
   "name": "python3"
  },
  "language_info": {
   "codemirror_mode": {
    "name": "ipython",
    "version": 3
   },
   "file_extension": ".py",
   "mimetype": "text/x-python",
   "name": "python",
   "nbconvert_exporter": "python",
   "pygments_lexer": "ipython3",
   "version": "3.9.5"
  },
  "orig_nbformat": 4,
  "vscode": {
   "interpreter": {
    "hash": "89e1cd44f001cee52913e72ef4428da95183f9883d2353723c5f24d4bebbab96"
   }
  }
 },
 "nbformat": 4,
 "nbformat_minor": 2
}
